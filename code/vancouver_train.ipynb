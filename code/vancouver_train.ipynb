{
 "cells": [
  {
   "cell_type": "code",
   "execution_count": 1,
   "id": "bd08e462",
   "metadata": {},
   "outputs": [],
   "source": [
    "import numpy as np\n",
    "import pandas as pd\n",
    "import matplotlib.pyplot as plt\n",
    "from sklearn import linear_model\n",
    "from sklearn.metrics import mean_absolute_error\n",
    "from sklearn.model_selection import train_test_split\n",
    "from pandas.plotting import lag_plot\n",
    "from pandas.plotting import autocorrelation_plot\n",
    "from statsmodels.tsa.ar_model import AutoReg"
   ]
  },
  {
   "cell_type": "markdown",
   "id": "3456ea1e",
   "metadata": {},
   "source": [
    "## load Vancouver data"
   ]
  },
  {
   "cell_type": "code",
   "execution_count": 2,
   "id": "2f859031",
   "metadata": {},
   "outputs": [
    {
     "name": "stdout",
     "output_type": "stream",
     "text": [
      "(31088, 9)\n"
     ]
    },
    {
     "data": {
      "text/html": [
       "<div>\n",
       "<style scoped>\n",
       "    .dataframe tbody tr th:only-of-type {\n",
       "        vertical-align: middle;\n",
       "    }\n",
       "\n",
       "    .dataframe tbody tr th {\n",
       "        vertical-align: top;\n",
       "    }\n",
       "\n",
       "    .dataframe thead th {\n",
       "        text-align: right;\n",
       "    }\n",
       "</style>\n",
       "<table border=\"1\" class=\"dataframe\">\n",
       "  <thead>\n",
       "    <tr style=\"text-align: right;\">\n",
       "      <th></th>\n",
       "      <th>DATE</th>\n",
       "      <th>TMAX</th>\n",
       "      <th>TAVG</th>\n",
       "      <th>TMIN</th>\n",
       "      <th>PRCP</th>\n",
       "      <th>SNDW</th>\n",
       "      <th>doy</th>\n",
       "      <th>year</th>\n",
       "      <th>CDD</th>\n",
       "    </tr>\n",
       "  </thead>\n",
       "  <tbody>\n",
       "    <tr>\n",
       "      <th>0</th>\n",
       "      <td>1937-01-01</td>\n",
       "      <td>3.9</td>\n",
       "      <td>-1.09</td>\n",
       "      <td>-6.1</td>\n",
       "      <td>0.0</td>\n",
       "      <td>0.0</td>\n",
       "      <td>1</td>\n",
       "      <td>1937</td>\n",
       "      <td>-1.09</td>\n",
       "    </tr>\n",
       "    <tr>\n",
       "      <th>1</th>\n",
       "      <td>1937-01-02</td>\n",
       "      <td>0.0</td>\n",
       "      <td>-2.80</td>\n",
       "      <td>-5.6</td>\n",
       "      <td>0.0</td>\n",
       "      <td>0.0</td>\n",
       "      <td>2</td>\n",
       "      <td>1937</td>\n",
       "      <td>-3.89</td>\n",
       "    </tr>\n",
       "    <tr>\n",
       "      <th>2</th>\n",
       "      <td>1937-01-03</td>\n",
       "      <td>6.1</td>\n",
       "      <td>2.19</td>\n",
       "      <td>-1.7</td>\n",
       "      <td>0.0</td>\n",
       "      <td>0.0</td>\n",
       "      <td>3</td>\n",
       "      <td>1937</td>\n",
       "      <td>-1.70</td>\n",
       "    </tr>\n",
       "    <tr>\n",
       "      <th>3</th>\n",
       "      <td>1937-01-04</td>\n",
       "      <td>5.0</td>\n",
       "      <td>0.29</td>\n",
       "      <td>-4.4</td>\n",
       "      <td>0.0</td>\n",
       "      <td>0.0</td>\n",
       "      <td>4</td>\n",
       "      <td>1937</td>\n",
       "      <td>-1.41</td>\n",
       "    </tr>\n",
       "    <tr>\n",
       "      <th>4</th>\n",
       "      <td>1937-01-05</td>\n",
       "      <td>-1.1</td>\n",
       "      <td>-6.10</td>\n",
       "      <td>-11.1</td>\n",
       "      <td>0.0</td>\n",
       "      <td>0.0</td>\n",
       "      <td>5</td>\n",
       "      <td>1937</td>\n",
       "      <td>-7.51</td>\n",
       "    </tr>\n",
       "  </tbody>\n",
       "</table>\n",
       "</div>"
      ],
      "text/plain": [
       "         DATE  TMAX  TAVG  TMIN  PRCP  SNDW  doy  year   CDD\n",
       "0  1937-01-01   3.9 -1.09  -6.1   0.0   0.0    1  1937 -1.09\n",
       "1  1937-01-02   0.0 -2.80  -5.6   0.0   0.0    2  1937 -3.89\n",
       "2  1937-01-03   6.1  2.19  -1.7   0.0   0.0    3  1937 -1.70\n",
       "3  1937-01-04   5.0  0.29  -4.4   0.0   0.0    4  1937 -1.41\n",
       "4  1937-01-05  -1.1 -6.10 -11.1   0.0   0.0    5  1937 -7.51"
      ]
     },
     "execution_count": 2,
     "metadata": {},
     "output_type": "execute_result"
    }
   ],
   "source": [
    "train = pd.read_csv('Vancouver_climate.csv')\n",
    "train['doy'] = pd.to_datetime(train['DATE']).dt.dayofyear\n",
    "train['year'] = pd.to_datetime(train['DATE']).dt.year\n",
    "train['CDD'] = (train.groupby(['year']))['TAVG'].cumsum()\n",
    "print(train.shape)\n",
    "train.head()"
   ]
  },
  {
   "cell_type": "code",
   "execution_count": 3,
   "id": "2dc2cfb2",
   "metadata": {},
   "outputs": [
    {
     "data": {
      "text/html": [
       "<div>\n",
       "<style scoped>\n",
       "    .dataframe tbody tr th:only-of-type {\n",
       "        vertical-align: middle;\n",
       "    }\n",
       "\n",
       "    .dataframe tbody tr th {\n",
       "        vertical-align: top;\n",
       "    }\n",
       "\n",
       "    .dataframe thead th {\n",
       "        text-align: right;\n",
       "    }\n",
       "</style>\n",
       "<table border=\"1\" class=\"dataframe\">\n",
       "  <thead>\n",
       "    <tr style=\"text-align: right;\">\n",
       "      <th></th>\n",
       "      <th>TMAX</th>\n",
       "      <th>TAVG</th>\n",
       "      <th>TMIN</th>\n",
       "      <th>PRCP</th>\n",
       "      <th>SNDW</th>\n",
       "      <th>doy</th>\n",
       "      <th>year</th>\n",
       "      <th>CDD</th>\n",
       "    </tr>\n",
       "  </thead>\n",
       "  <tbody>\n",
       "    <tr>\n",
       "      <th>count</th>\n",
       "      <td>31083.000000</td>\n",
       "      <td>31081.000000</td>\n",
       "      <td>31085.000000</td>\n",
       "      <td>31030.000000</td>\n",
       "      <td>30965.000000</td>\n",
       "      <td>31088.000000</td>\n",
       "      <td>31088.000000</td>\n",
       "      <td>31081.000000</td>\n",
       "    </tr>\n",
       "    <tr>\n",
       "      <th>mean</th>\n",
       "      <td>13.782836</td>\n",
       "      <td>10.109838</td>\n",
       "      <td>6.439099</td>\n",
       "      <td>3.100139</td>\n",
       "      <td>0.119464</td>\n",
       "      <td>182.905430</td>\n",
       "      <td>1979.058769</td>\n",
       "      <td>1737.857872</td>\n",
       "    </tr>\n",
       "    <tr>\n",
       "      <th>std</th>\n",
       "      <td>6.431696</td>\n",
       "      <td>5.823728</td>\n",
       "      <td>5.540936</td>\n",
       "      <td>6.334746</td>\n",
       "      <td>1.128999</td>\n",
       "      <td>105.536291</td>\n",
       "      <td>24.570124</td>\n",
       "      <td>1316.489141</td>\n",
       "    </tr>\n",
       "    <tr>\n",
       "      <th>min</th>\n",
       "      <td>-11.100000</td>\n",
       "      <td>-14.450000</td>\n",
       "      <td>-17.800000</td>\n",
       "      <td>0.000000</td>\n",
       "      <td>0.000000</td>\n",
       "      <td>1.000000</td>\n",
       "      <td>1937.000000</td>\n",
       "      <td>-219.460000</td>\n",
       "    </tr>\n",
       "    <tr>\n",
       "      <th>25%</th>\n",
       "      <td>8.900000</td>\n",
       "      <td>5.850000</td>\n",
       "      <td>2.600000</td>\n",
       "      <td>0.000000</td>\n",
       "      <td>0.000000</td>\n",
       "      <td>91.000000</td>\n",
       "      <td>1958.000000</td>\n",
       "      <td>434.180000</td>\n",
       "    </tr>\n",
       "    <tr>\n",
       "      <th>50%</th>\n",
       "      <td>13.300000</td>\n",
       "      <td>9.900000</td>\n",
       "      <td>6.700000</td>\n",
       "      <td>0.000000</td>\n",
       "      <td>0.000000</td>\n",
       "      <td>183.000000</td>\n",
       "      <td>1979.000000</td>\n",
       "      <td>1574.300000</td>\n",
       "    </tr>\n",
       "    <tr>\n",
       "      <th>75%</th>\n",
       "      <td>19.000000</td>\n",
       "      <td>15.000000</td>\n",
       "      <td>11.100000</td>\n",
       "      <td>3.400000</td>\n",
       "      <td>0.000000</td>\n",
       "      <td>274.000000</td>\n",
       "      <td>2000.000000</td>\n",
       "      <td>3063.020000</td>\n",
       "    </tr>\n",
       "    <tr>\n",
       "      <th>max</th>\n",
       "      <td>34.400000</td>\n",
       "      <td>28.400000</td>\n",
       "      <td>22.400000</td>\n",
       "      <td>91.600000</td>\n",
       "      <td>41.000000</td>\n",
       "      <td>366.000000</td>\n",
       "      <td>2022.000000</td>\n",
       "      <td>4200.780000</td>\n",
       "    </tr>\n",
       "  </tbody>\n",
       "</table>\n",
       "</div>"
      ],
      "text/plain": [
       "               TMAX          TAVG          TMIN          PRCP          SNDW  \\\n",
       "count  31083.000000  31081.000000  31085.000000  31030.000000  30965.000000   \n",
       "mean      13.782836     10.109838      6.439099      3.100139      0.119464   \n",
       "std        6.431696      5.823728      5.540936      6.334746      1.128999   \n",
       "min      -11.100000    -14.450000    -17.800000      0.000000      0.000000   \n",
       "25%        8.900000      5.850000      2.600000      0.000000      0.000000   \n",
       "50%       13.300000      9.900000      6.700000      0.000000      0.000000   \n",
       "75%       19.000000     15.000000     11.100000      3.400000      0.000000   \n",
       "max       34.400000     28.400000     22.400000     91.600000     41.000000   \n",
       "\n",
       "                doy          year           CDD  \n",
       "count  31088.000000  31088.000000  31081.000000  \n",
       "mean     182.905430   1979.058769   1737.857872  \n",
       "std      105.536291     24.570124   1316.489141  \n",
       "min        1.000000   1937.000000   -219.460000  \n",
       "25%       91.000000   1958.000000    434.180000  \n",
       "50%      183.000000   1979.000000   1574.300000  \n",
       "75%      274.000000   2000.000000   3063.020000  \n",
       "max      366.000000   2022.000000   4200.780000  "
      ]
     },
     "execution_count": 3,
     "metadata": {},
     "output_type": "execute_result"
    }
   ],
   "source": [
    "train.describe()"
   ]
  },
  {
   "cell_type": "markdown",
   "id": "97b8d200",
   "metadata": {},
   "source": [
    "## $\\log{\\frac{P_t}{1-P_t}} = \\beta_0 + \\beta_1 t + \\beta_2 \\text{CDD}_t$\n",
    "\n",
    "## $\\text{CDD}_t = \\sum_{i=1}^{t}T $"
   ]
  },
  {
   "cell_type": "markdown",
   "id": "2715f643",
   "metadata": {},
   "source": [
    "## Validation 2001 - 2000"
   ]
  },
  {
   "cell_type": "code",
   "execution_count": 4,
   "id": "a42980f5",
   "metadata": {},
   "outputs": [],
   "source": [
    "beta0_before = np.array([-280.08748249, -250.17648572, -310.13513578, -176.82744787,\n",
    "       -152.95793016, -167.04313605, -326.51569084, -175.52126718,\n",
    "       -106.76351411, -234.71521583, -169.4254379 , -198.79201096,\n",
    "       -259.92757024, -465.71192393, -261.31640609, -353.64453504,\n",
    "       -333.92239345, -231.05418157, -199.98655687, -230.93356069,\n",
    "       -262.02752348, -163.02338885, -222.47279548, -161.09562497,\n",
    "       -233.60293469, -153.58760558, -113.63787838, -272.85464508,\n",
    "       -228.77625924, -239.83357604, -197.43552975, -121.38247144,\n",
    "       -173.53608265, -192.47507819, -217.16998023, -231.93332415,\n",
    "       -431.75072467, -278.25212287, -308.91322631, -287.4463173 ,\n",
    "       -168.92908464, -169.39543163, -188.19669916, -239.89359091,\n",
    "       -207.06346815, -267.23371307, -293.30355958, -198.60158523,\n",
    "       -228.91742371, -167.07238986, -159.21349872, -144.49851427,\n",
    "       -151.1508533 , -208.6450107 , -291.56565046, -252.91688135,\n",
    "       -244.94548695, -146.73587405, -288.09404693, -154.60313102,\n",
    "       -259.34866855, -214.30064519, -287.26420128, -288.00558743])"
   ]
  },
  {
   "cell_type": "code",
   "execution_count": 5,
   "id": "f923fa8d",
   "metadata": {},
   "outputs": [],
   "source": [
    "beta1_before = np.array([0.02139364, 0.06404033, 0.08119051, 0.37827502, 0.03000518,\n",
    "       0.02498499, 0.12014821, 0.0217338 , 0.01521451, 0.04663866,\n",
    "       0.01677527, 0.12910024, 0.02800224, 0.14951081, 0.03917352,\n",
    "       0.06390864, 0.07572465, 0.03422127, 0.03114359, 0.03749153,\n",
    "       0.04559813, 0.02300848, 0.0350506 , 0.0160891 , 0.09816575,\n",
    "       0.02252608, 0.0167999 , 0.04672933, 0.05489754, 0.0772518 ,\n",
    "       0.02189389, 0.02225172, 0.02270278, 0.04065857, 0.06383378,\n",
    "       0.03018785, 0.10687923, 0.02766626, 0.05366038, 0.06512762,\n",
    "       0.07715743, 0.02583628, 0.04379344, 0.03711989, 0.02107793,\n",
    "       0.45741101, 0.04232079, 0.04006166, 0.04830874, 0.02198095,\n",
    "       0.02801757, 0.02768643, 0.01493843, 0.01774814, 0.04473892,\n",
    "       0.03355311, 0.04623558, 0.03495746, 0.06901879, 0.03111685,\n",
    "       0.04402535, 0.02123088, 0.0445145 , 0.09211035])"
   ]
  },
  {
   "cell_type": "code",
   "execution_count": 6,
   "id": "30011db7",
   "metadata": {},
   "outputs": [],
   "source": [
    "beta2_before = np.array([0.40403062, 0.58299776, 0.62507945, 0.66675549, 0.45593778,\n",
    "       0.42724534, 0.69059681, 0.40622953, 0.35604983, 0.5297237 ,\n",
    "       0.36918734, 0.69747772, 0.44493766, 0.70862941, 0.49979502,\n",
    "       0.58474438, 0.61432102, 0.46489963, 0.46169742, 0.49235115,\n",
    "       0.52566724, 0.41478735, 0.48121849, 0.36351011, 0.65728334,\n",
    "       0.41175417, 0.3694621 , 0.52940515, 0.55722742, 0.61711219,\n",
    "       0.40696778, 0.4098017 , 0.41283785, 0.50582225, 0.58341285,\n",
    "       0.45608665, 0.67487418, 0.44308824, 0.55309286, 0.58677053,\n",
    "       0.61865413, 0.43236362, 0.51816354, 0.49045876, 0.40176665,\n",
    "       0.66705319, 0.51256616, 0.50356059, 0.53531913, 0.40803495,\n",
    "       0.44511575, 0.44322749, 0.35368665, 0.37707167, 0.52065426,\n",
    "       0.47414489, 0.52739045, 0.48077085, 0.59743901, 0.46182252,\n",
    "       0.51966695, 0.40291494, 0.52085465, 0.63955025])"
   ]
  },
  {
   "cell_type": "code",
   "execution_count": 7,
   "id": "71c89528",
   "metadata": {},
   "outputs": [
    {
     "name": "stdout",
     "output_type": "stream",
     "text": [
      "[77 68 67 86 85 87 84 92]\n",
      "[2014 2015 2016 2017 2018 2019 2020 2021]\n"
     ]
    }
   ],
   "source": [
    "seattle_doy = np.array([77, 68, 67, 86, 85, 87, 84, 92])\n",
    "seattle_year = np.arange(2014, 2021 + 1)\n",
    "print(seattle_doy)\n",
    "print(seattle_year)"
   ]
  },
  {
   "cell_type": "code",
   "execution_count": 8,
   "id": "9047f6e2",
   "metadata": {},
   "outputs": [],
   "source": [
    "beta0_model = AutoReg(beta0_before, lags = 9, trend='c').fit()\n",
    "beta1_model = AutoReg(beta1_before, lags = 3, trend='c').fit()\n",
    "beta2_model = AutoReg(beta2_before, lags = 13, trend='c').fit()\n",
    "# validate the blooming doy\n",
    "# return the predicted doy\n",
    "def predict_blooming_beta(start, end):\n",
    "    \n",
    "    training_start = 1937\n",
    "    predict = np.zeros(end - start + 1)\n",
    "    \n",
    "    beta0_pre = beta0_model.predict(start-training_start, end-training_start, dynamic=False)\n",
    "    beta1_pre = beta1_model.predict(start-training_start, end-training_start, dynamic=False)\n",
    "    beta2_pre = beta2_model.predict(start-training_start, end-training_start, dynamic=False)\n",
    "    \n",
    "    for year in range(start, end + 1):\n",
    "        year_str = str(year)\n",
    "        \n",
    "        # build the real doy array\n",
    "        CU = np.average(train[train['year'] == year - 1][-71:]['TAVG'])\n",
    "        train_year = train[train['year'] == year][:180]\n",
    "        \n",
    "        features = ['doy', 'CDD']\n",
    "        X = train_year[features]\n",
    "        \n",
    "        # predict beta_i\n",
    "        b = np.array([[beta1_pre[year - start], beta2_pre[year - start]]])\n",
    "#         b0 = np.array([beta0_pre[year - start]])\n",
    "        if CU < 5:\n",
    "            b0 = np.array([beta0_pre[year - start] + 90])\n",
    "#         elif CU > 6:\n",
    "#             b0 = np.array([beta0 + 40])\n",
    "        else:\n",
    "            b0 = np.array([beta0_pre[year - start] + 20])\n",
    "        \n",
    "        p_days = np.array(1 / (1 + np.exp(- np.matmul(X, b.T) - b0)))\n",
    "        \n",
    "        for i in range(180):\n",
    "            if p_days[i, 0] > 0.5:\n",
    "                predict[year - start] = i + 1\n",
    "                break\n",
    "        \n",
    "    return predict\n"
   ]
  },
  {
   "cell_type": "code",
   "execution_count": 9,
   "id": "b7d15121",
   "metadata": {},
   "outputs": [
    {
     "data": {
      "image/png": "[encoded data removed]",
      "text/plain": [
       "<Figure size 720x360 with 1 Axes>"
      ]
     },
     "metadata": {
      "needs_background": "light"
     },
     "output_type": "display_data"
    }
   ],
   "source": [
    "# plot the predict, real doy vs. year\n",
    "start = 2014\n",
    "end = 2021\n",
    "result_pred_ts = predict_blooming_beta(start, end)\n",
    "x = np.arange(start, end + 1)\n",
    "\n",
    "f = plt.figure(figsize=(10, 5))\n",
    "plt.plot(x, result_pred_ts, 'o-', label = 'Predicted doy')\n",
    "plt.plot(x, seattle_doy, 'o-', label = 'Real doy')\n",
    "plt.xlabel(\"Year\", fontsize = 16)\n",
    "plt.ylabel(\"doy\", fontsize = 16)\n",
    "# plt.ylim([67, 115])\n",
    "plt.xticks(np.arange(2014, 2022), fontsize = 16)\n",
    "plt.yticks(fontsize = 16)\n",
    "# plt.title(\"th = 0.5\")\n",
    "plt.legend(fontsize = 12, loc = 'lower right')\n",
    "plt.show()\n",
    "# f.savefig(\"../result_figures/washington_beta.png\", bbox_inches='tight', dpi=1200)\n",
    "# f.savefig(\"../result_figures/washington_beta_modified.png\", bbox_inches='tight', dpi=1200)"
   ]
  },
  {
   "cell_type": "code",
   "execution_count": 10,
   "id": "140bfb4d",
   "metadata": {},
   "outputs": [
    {
     "data": {
      "text/plain": [
       "array([4.77056338, 6.16887324, 5.85633803, 5.79042254, 5.26929577,\n",
       "       6.74619718, 5.79605634, 5.98591549])"
      ]
     },
     "execution_count": 10,
     "metadata": {},
     "output_type": "execute_result"
    }
   ],
   "source": [
    "np.array([np.average(train[train['year'] == y-1][-71:]['TAVG']) for y in range(2014, 2022)])"
   ]
  },
  {
   "cell_type": "markdown",
   "id": "26f64ecc",
   "metadata": {},
   "source": [
    "## add prediction data"
   ]
  },
  {
   "cell_type": "code",
   "execution_count": 11,
   "id": "c5d16580",
   "metadata": {},
   "outputs": [
    {
     "data": {
      "text/html": [
       "<div>\n",
       "<style scoped>\n",
       "    .dataframe tbody tr th:only-of-type {\n",
       "        vertical-align: middle;\n",
       "    }\n",
       "\n",
       "    .dataframe tbody tr th {\n",
       "        vertical-align: top;\n",
       "    }\n",
       "\n",
       "    .dataframe thead th {\n",
       "        text-align: right;\n",
       "    }\n",
       "</style>\n",
       "<table border=\"1\" class=\"dataframe\">\n",
       "  <thead>\n",
       "    <tr style=\"text-align: right;\">\n",
       "      <th></th>\n",
       "      <th>Unnamed: 0</th>\n",
       "      <th>temp</th>\n",
       "      <th>date</th>\n",
       "      <th>doy</th>\n",
       "      <th>year</th>\n",
       "      <th>CDD</th>\n",
       "    </tr>\n",
       "  </thead>\n",
       "  <tbody>\n",
       "    <tr>\n",
       "      <th>0</th>\n",
       "      <td>1.0</td>\n",
       "      <td>-4.20</td>\n",
       "      <td>1/1/22</td>\n",
       "      <td>1</td>\n",
       "      <td>2022</td>\n",
       "      <td>-4.20</td>\n",
       "    </tr>\n",
       "    <tr>\n",
       "      <th>1</th>\n",
       "      <td>2.0</td>\n",
       "      <td>2.75</td>\n",
       "      <td>1/2/22</td>\n",
       "      <td>2</td>\n",
       "      <td>2022</td>\n",
       "      <td>-1.45</td>\n",
       "    </tr>\n",
       "    <tr>\n",
       "      <th>2</th>\n",
       "      <td>3.0</td>\n",
       "      <td>3.50</td>\n",
       "      <td>1/3/22</td>\n",
       "      <td>3</td>\n",
       "      <td>2022</td>\n",
       "      <td>2.05</td>\n",
       "    </tr>\n",
       "    <tr>\n",
       "      <th>3</th>\n",
       "      <td>4.0</td>\n",
       "      <td>2.55</td>\n",
       "      <td>1/4/22</td>\n",
       "      <td>4</td>\n",
       "      <td>2022</td>\n",
       "      <td>4.60</td>\n",
       "    </tr>\n",
       "    <tr>\n",
       "      <th>4</th>\n",
       "      <td>5.0</td>\n",
       "      <td>-1.29</td>\n",
       "      <td>1/5/22</td>\n",
       "      <td>5</td>\n",
       "      <td>2022</td>\n",
       "      <td>3.31</td>\n",
       "    </tr>\n",
       "  </tbody>\n",
       "</table>\n",
       "</div>"
      ],
      "text/plain": [
       "   Unnamed: 0  temp    date  doy  year   CDD\n",
       "0         1.0 -4.20  1/1/22    1  2022 -4.20\n",
       "1         2.0  2.75  1/2/22    2  2022 -1.45\n",
       "2         3.0  3.50  1/3/22    3  2022  2.05\n",
       "3         4.0  2.55  1/4/22    4  2022  4.60\n",
       "4         5.0 -1.29  1/5/22    5  2022  3.31"
      ]
     },
     "execution_count": 11,
     "metadata": {},
     "output_type": "execute_result"
    }
   ],
   "source": [
    "prediction_ds = pd.read_csv('Vancouver_temp_forecast_10_years.csv')\n",
    "prediction_ds['doy'] = pd.to_datetime(prediction_ds['date']).dt.dayofyear\n",
    "prediction_ds['year'] = pd.to_datetime(prediction_ds['date']).dt.year\n",
    "prediction_ds['CDD'] = (prediction_ds.groupby(['year']))['temp'].cumsum()\n",
    "prediction_ds.head()"
   ]
  },
  {
   "cell_type": "code",
   "execution_count": 12,
   "id": "a1e86b8e",
   "metadata": {},
   "outputs": [],
   "source": [
    "beta0_model = AutoReg(beta0_before, lags = 9, trend='c').fit()\n",
    "beta1_model = AutoReg(beta1_before, lags = 3, trend='c').fit()\n",
    "beta2_model = AutoReg(beta2_before, lags = 13, trend='c').fit()\n",
    "# predict the blooming doy\n",
    "# return the predicted doy\n",
    "def predict_blooming_beta_ts(start, end):\n",
    "    \n",
    "    training_start = 1937\n",
    "    \n",
    "    predict = np.zeros(end - start + 1)\n",
    "    \n",
    "    beta0_pre = beta0_model.predict(start-training_start, end-training_start, dynamic=False)\n",
    "    beta1_pre = beta1_model.predict(start-training_start, end-training_start, dynamic=False)\n",
    "    beta2_pre = beta2_model.predict(start-training_start, end-training_start, dynamic=False)\n",
    "    \n",
    "    for year in range(start, end + 1):\n",
    "        year_str = str(year)\n",
    "        \n",
    "        # build the predict doy array\n",
    "        if year >= start + 1:\n",
    "            CU = np.average(prediction_ds[prediction_ds['year'] == year - 1][-71:]['temp'])\n",
    "        else:\n",
    "            CU = np.average(train[train['year'] == year - 1][-71:]['TAVG'])\n",
    "        \n",
    "        pre_year = prediction_ds[prediction_ds['year'] == year][:180]\n",
    "        features = ['doy', 'CDD']\n",
    "        X = pre_year[features]\n",
    "        \n",
    "        # predict beta_i\n",
    "        b = np.array([[beta1_pre[year - start], beta2_pre[year - start]]])\n",
    "#         b0 = np.array([beta0_pre[year - start]])\n",
    "        if CU < 5:\n",
    "            b0 = np.array([beta0_pre[year - start] + 90])\n",
    "#         elif CU > 6:\n",
    "#             b0 = np.array([beta0 + 40])\n",
    "        else:\n",
    "            b0 = np.array([beta0_pre[year - start] + 20])\n",
    "        \n",
    "        p_days = np.array(1 / (1 + np.exp(- np.matmul(X, b.T) - b0)))\n",
    "        \n",
    "        for i in range(180):\n",
    "            if p_days[i, 0] > 0.5:\n",
    "                predict[year - start] = i + 1\n",
    "                break\n",
    "        \n",
    "    return predict\n"
   ]
  },
  {
   "cell_type": "code",
   "execution_count": 13,
   "id": "c791a4ef",
   "metadata": {},
   "outputs": [
    {
     "data": {
      "image/png": "[encoded data removed]",
      "text/plain": [
       "<Figure size 720x360 with 1 Axes>"
      ]
     },
     "metadata": {
      "needs_background": "light"
     },
     "output_type": "display_data"
    }
   ],
   "source": [
    "# plot the predict, real doy vs. year\n",
    "start = 2022\n",
    "end = 2031\n",
    "result_pred_ts = predict_blooming_beta_ts(start, end)\n",
    "x_r = seattle_year\n",
    "x_p = np.arange(start, end + 1)\n",
    "\n",
    "f = plt.figure(figsize=(10, 5))\n",
    "plt.plot(x_r, seattle_doy, 'o-', label = 'Previous doy')\n",
    "# plt.plot(x_p, result_pred_ts, 'o-', label = 'Predicted doy')\n",
    "plt.plot(np.arange(start - 1, end + 1), np.insert(result_pred_ts, \n",
    "                                    0, seattle_doy[-1]), 'o-', label = 'Predicted doy', zorder = 1)\n",
    "plt.xlabel(\"Year\", fontsize = 16)\n",
    "plt.ylabel(\"doy\", fontsize = 16)\n",
    "plt.xticks(np.arange(2014, 2033, 4), fontsize = 16)\n",
    "plt.yticks(fontsize = 16)\n",
    "plt.legend(fontsize = 12, loc = 'lower right')\n",
    "plt.show()\n",
    "# f.savefig(\"../result_figures/vancouver_prediction.png\", bbox_inches='tight', dpi=1200)"
   ]
  },
  {
   "cell_type": "code",
   "execution_count": 14,
   "id": "539b4eed",
   "metadata": {},
   "outputs": [
    {
     "name": "stdout",
     "output_type": "stream",
     "text": [
      "[72. 92. 86. 86. 83. 87. 87. 88. 89. 89.]\n"
     ]
    }
   ],
   "source": [
    "print(result_pred_ts)"
   ]
  },
  {
   "cell_type": "code",
   "execution_count": null,
   "id": "d6f55113",
   "metadata": {},
   "outputs": [],
   "source": []
  }
 ],
 "metadata": {
  "kernelspec": {
   "display_name": "Python 3 (ipykernel)",
   "language": "python",
   "name": "python3"
  },
  "language_info": {
   "codemirror_mode": {
    "name": "ipython",
    "version": 3
   },
   "file_extension": ".py",
   "mimetype": "text/x-python",
   "name": "python",
   "nbconvert_exporter": "python",
   "pygments_lexer": "ipython3",
   "version": "3.7.11"
  }
 },
 "nbformat": 4,
 "nbformat_minor": 5
}
